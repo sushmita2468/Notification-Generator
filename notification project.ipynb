{
 "cells": [
  {
   "cell_type": "code",
   "execution_count": 1,
   "id": "8f981369",
   "metadata": {},
   "outputs": [],
   "source": [
    "from plyer import notification\n",
    "import requests\n",
    "\n",
    "def notifyme(title,message):\n",
    "    notification.notify(title=title,message=message,timeout=100,app_icon=None)\n",
    "\n",
    "if __name__==\"__main__\":\n",
    "    notifyme(\"TIK-TOK\",\"you win ASDEFRGTHYJGFDSWDEFRGHYGFDSDFGD\")\n"
   ]
  },
  {
   "cell_type": "code",
   "execution_count": 2,
   "id": "7d4e5cc6",
   "metadata": {},
   "outputs": [],
   "source": [
    "from plyer import notification\n",
    "import requests\n",
    "\n",
    "def notifyme(title,message):  \n",
    "    notification.notify(title=title,message=message,timeout=100,app_icon=None)\n",
    "    \n",
    "\n",
    "if __name__==\"__main__\":\n",
    "    notifyme(\"hello\",\"you had completed\")"
   ]
  },
  {
   "cell_type": "code",
   "execution_count": null,
   "id": "862525f8",
   "metadata": {},
   "outputs": [],
   "source": []
  }
 ],
 "metadata": {
  "kernelspec": {
   "display_name": "Python 3",
   "language": "python",
   "name": "python3"
  },
  "language_info": {
   "codemirror_mode": {
    "name": "ipython",
    "version": 3
   },
   "file_extension": ".py",
   "mimetype": "text/x-python",
   "name": "python",
   "nbconvert_exporter": "python",
   "pygments_lexer": "ipython3",
   "version": "3.8.8"
  }
 },
 "nbformat": 4,
 "nbformat_minor": 5
}
